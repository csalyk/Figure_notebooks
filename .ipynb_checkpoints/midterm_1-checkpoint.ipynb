{
 "cells": [
  {
   "cell_type": "code",
   "execution_count": 1,
   "metadata": {},
   "outputs": [
    {
     "name": "stdout",
     "output_type": "stream",
     "text": [
      "Populating the interactive namespace from numpy and matplotlib\n"
     ]
    }
   ],
   "source": [
    "%pylab inline"
   ]
  },
  {
   "cell_type": "code",
   "execution_count": 11,
   "metadata": {},
   "outputs": [],
   "source": [
    "rcParams['axes.linewidth'] = 2 # set the value globally\n",
    "plt.rc('font', family='serif')"
   ]
  },
  {
   "cell_type": "code",
   "execution_count": 26,
   "metadata": {},
   "outputs": [],
   "source": [
    "fig_dir='/Users/csalyk/Dropbox/ASTR230_2020/Midterm_1/'"
   ]
  },
  {
   "cell_type": "code",
   "execution_count": 41,
   "metadata": {},
   "outputs": [
    {
     "data": {
      "image/png": "[encoded data removed]",
      "text/plain": [
       "<Figure size 360x360 with 1 Axes>"
      ]
     },
     "metadata": {
      "needs_background": "light"
     },
     "output_type": "display_data"
    }
   ],
   "source": [
    "#Sun-Jupiter system\n",
    "M1=1000.\n",
    "M2=1.\n",
    "R=10\n",
    "\n",
    "#L1\n",
    "r_L1=R*(M2/(3*M1))**(1./3.)\n",
    "x_L1=R+r_L1\n",
    "y_L1=0\n",
    "\n",
    "#L2\n",
    "x_L2=R-r_L1\n",
    "y_L2=0\n",
    "\n",
    "#L3\n",
    "r_L3=R+(R*(5*M2/(12*M1)))\n",
    "x_L3=-r_L3\n",
    "y_L3=0\n",
    "\n",
    "#L4\n",
    "x_L4=R*np.cos(60*np.pi/180.)\n",
    "y_L4=R*np.sin(60*np.pi/180.)\n",
    "\n",
    "#L5\n",
    "x_L5=R*np.cos(60*np.pi/180.)\n",
    "y_L5=-R*np.sin(60*np.pi/180.)\n",
    "\n",
    "fig=plt.figure(figsize=(5,5))\n",
    "ax=fig.add_subplot(111,aspect=1)\n",
    "ax.plot([0],[0],'ko',ms=14)\n",
    "ax.plot([10],[0],'ko',ms=6)\n",
    "ax.plot([x_L3],[y_L3],'r.',ms=6)\n",
    "\n",
    "offset=1.05\n",
    "ax.text(x_L3/offset,y_L3*offset,r'm$_3$',fontsize=14,fontweight='bold')\n",
    "\n",
    "ax.text(0.6,0.2,r'm$_1$',fontsize=14)\n",
    "ax.text(10,0.4,r'm$_2$',fontsize=14)\n",
    "\n",
    "ax.set_axis_off()\n",
    "ax.plot([0,10],[0,0],color='C0')\n",
    "ax.text(5,-2, 'r',color='C0',fontsize=20)\n",
    "ax.set_xlim(-12,12)\n",
    "ax.set_ylim(-4,4)\n",
    "\n",
    "ax.text(15,0,'Draw free-body diagram below:',fontsize=15)\n",
    "\n",
    "fig.savefig(fig_dir+'Lagrange_fig.eps',bbox_inches='tight')"
   ]
  },
  {
   "cell_type": "code",
   "execution_count": null,
   "metadata": {},
   "outputs": [],
   "source": []
  }
 ],
 "metadata": {
  "kernelspec": {
   "display_name": "Python 3",
   "language": "python",
   "name": "python3"
  },
  "language_info": {
   "codemirror_mode": {
    "name": "ipython",
    "version": 3
   },
   "file_extension": ".py",
   "mimetype": "text/x-python",
   "name": "python",
   "nbconvert_exporter": "python",
   "pygments_lexer": "ipython3",
   "version": "3.5.6"
  }
 },
 "nbformat": 4,
 "nbformat_minor": 2
}
